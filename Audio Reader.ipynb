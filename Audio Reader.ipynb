{
 "cells": [
  {
   "cell_type": "code",
   "execution_count": null,
   "id": "f0997a9f",
   "metadata": {},
   "outputs": [],
   "source": []
  },
  {
   "cell_type": "code",
   "execution_count": 3,
   "id": "04614397",
   "metadata": {},
   "outputs": [],
   "source": [
    "import tkinter\n"
   ]
  },
  {
   "cell_type": "code",
   "execution_count": null,
   "id": "4db04723",
   "metadata": {},
   "outputs": [
    {
     "name": "stdout",
     "output_type": "stream",
     "text": [
      "pygame 2.5.2 (SDL 2.28.3, Python 3.11.5)\n",
      "Hello from the pygame community. https://www.pygame.org/contribute.html\n"
     ]
    }
   ],
   "source": [
    "import tkinter as tk\n",
    "from tkinter import filedialog\n",
    "import PyPDF2\n",
    "import docx\n",
    "import pygame\n",
    "\n",
    "class PDFReader:\n",
    "    def __init__(self, filename):\n",
    "        self.filename = filename\n",
    "    \n",
    "    def extract_text(self):\n",
    "        # Implement PDF text extraction logic using PyPDF2\n",
    "        pass\n",
    "\n",
    "class WordReader:\n",
    "    def __init__(self, filename):\n",
    "        self.filename = filename\n",
    "    \n",
    "    def extract_text(self):\n",
    "        # Implement Word text extraction logic using python-docx\n",
    "        pass\n",
    "\n",
    "class AudioPlayer:\n",
    "    def __init__(self, filename):\n",
    "        self.filename = filename\n",
    "    \n",
    "    def play(self):\n",
    "        # Implement audio playback logic using pygame\n",
    "        pass\n",
    "\n",
    "class Application(tk.Tk):\n",
    "    def __init__(self):\n",
    "        super().__init__()\n",
    "        self.title(\"Document Reader\")\n",
    "        self.geometry(\"400x200\")\n",
    "        self.btn_open_pdf = tk.Button(self, text=\"Open PDF\", command=self.open_pdf)\n",
    "        self.btn_open_word = tk.Button(self, text=\"Open Word\", command=self.open_word)\n",
    "        self.btn_open_audio = tk.Button(self, text=\"Open Audio\", command=self.open_audio)\n",
    "        self.btn_read = tk.Button(self, text=\"Read\", command=self.read)\n",
    "        self.btn_play = tk.Button(self, text=\"Play\", command=self.play_audio)\n",
    "        self.btn_open_pdf.pack()\n",
    "        self.btn_open_word.pack()\n",
    "        self.btn_open_audio.pack()\n",
    "        self.btn_read.pack()\n",
    "        self.btn_play.pack()\n",
    "        self.selected_pdf = \"\"\n",
    "        self.selected_word = \"\"\n",
    "        self.selected_audio = \"\"\n",
    "\n",
    "    def open_pdf(self):\n",
    "        self.selected_pdf = filedialog.askopenfilename(filetypes=[(\"PDF Files\", \"*.pdf\")])\n",
    "\n",
    "    def open_word(self):\n",
    "        self.selected_word = filedialog.askopenfilename(filetypes=[(\"Word Files\", \"*.docx\")])\n",
    "\n",
    "    def open_audio(self):\n",
    "        self.selected_audio = filedialog.askopenfilename(filetypes=[(\"Audio Files\", \"*.mp3\")])\n",
    "\n",
    "    def read(self):\n",
    "        if self.selected_pdf:\n",
    "            pdf_reader = PDFReader(self.selected_pdf)\n",
    "            text = pdf_reader.extract_text()\n",
    "            # Display or process the text\n",
    "        elif self.selected_word:\n",
    "            word_reader = WordReader(self.selected_word)\n",
    "            text = word_reader.extract_text()\n",
    "            # Display or process the text\n",
    "\n",
    "    def play_audio(self):\n",
    "        if self.selected_audio:\n",
    "            audio_player = AudioPlayer(self.selected_audio)\n",
    "            audio_player.play()\n",
    "\n",
    "if __name__ == \"__main__\":\n",
    "    app = Application()\n",
    "    app.mainloop()\n"
   ]
  },
  {
   "cell_type": "code",
   "execution_count": null,
   "id": "3dbbeba8",
   "metadata": {},
   "outputs": [],
   "source": []
  },
  {
   "cell_type": "code",
   "execution_count": null,
   "id": "2c66c802",
   "metadata": {},
   "outputs": [],
   "source": []
  }
 ],
 "metadata": {
  "kernelspec": {
   "display_name": "Python 3 (ipykernel)",
   "language": "python",
   "name": "python3"
  },
  "language_info": {
   "codemirror_mode": {
    "name": "ipython",
    "version": 3
   },
   "file_extension": ".py",
   "mimetype": "text/x-python",
   "name": "python",
   "nbconvert_exporter": "python",
   "pygments_lexer": "ipython3",
   "version": "3.11.5"
  }
 },
 "nbformat": 4,
 "nbformat_minor": 5
}
